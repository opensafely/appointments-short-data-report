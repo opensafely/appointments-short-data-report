{
 "cells": [
  {
   "cell_type": "code",
   "execution_count": null,
   "metadata": {},
   "outputs": [],
   "source": [
    "from IPython import display\n",
    "from matplotlib import pyplot\n",
    "import pathlib\n",
    "import pandas"
   ]
  },
  {
   "cell_type": "code",
   "execution_count": null,
   "metadata": {},
   "outputs": [],
   "source": [
    "OUTPUT_DIR = pathlib.Path(\"../../output/\").resolve()"
   ]
  },
  {
   "cell_type": "markdown",
   "metadata": {},
   "source": [
    "# Data curation\n",
    "\n",
    "---\n",
    "\n",
    "**WARNING:**\n",
    "There are duplicate rows in the `Appointment` table,\n",
    "so we have added `DISTINCT` to remove them from this short data report.\n",
    "\n",
    "---\n",
    "\n",
    "## Distinct appointments\n",
    "\n",
    "Do rows in the `Appointment` table represent distinct appointments?\n",
    "\n",
    "* In [`2e4a681`][1] we checked if `<Appointment_ID>` tuples were distinct. They weren't.\n",
    "* In [`bca8390`][2] we checked if `<Appointment_ID, Organisation_ID>` tuples were distinct. They weren't.\n",
    "* In [`93b43e1`][3] we checked if `<Appointment_ID, Patient_ID>` tuples were distinct. They weren't.\n",
    "* In [`479574b`][4] we checked if `<Appointment_ID, Organisation_ID, Patient_ID>` tuples were distinct. They weren't.\n",
    "\n",
    "We conclude that rows in the `Appointment` table do not represent distinct appointments.\n",
    "\n",
    "[1]: https://github.com/opensafely/appointments-short-data-report/commit/2e4a681cc7aa7b4a90455bf82e42e8777ae40eee\n",
    "[2]: https://github.com/opensafely/appointments-short-data-report/commit/bca8390250ef3ce6013847d23e38a5611391d65e\n",
    "[3]: https://github.com/opensafely/appointments-short-data-report/commit/93b43e1e0fbf3ac573ffe7350f7c8485dc75cb6e\n",
    "[4]: https://github.com/opensafely/appointments-short-data-report/commit/479574ba9aec98e0d40ffe61471977128c51fed2\n",
    "\n",
    "---\n",
    "\n",
    "Do rows in the `Appointment` table represent distinct appointments in some cases but not others?\n",
    "\n",
    "* In [`6922f68`][5] we checked if `<Organisation_ID, Appointment_ID>` tuples grouped by `Organisation_ID` were distinct. Most weren't.\n",
    "* In [`22bd7f2`][6] we checked if `<Status, Appointment_ID>` tuples grouped by `Status` were distinct. Most weren't.\n",
    "\n",
    "[5]: https://github.com/opensafely/appointments-short-data-report/commit/6922f68305e23fde2bf7adb8c1616aba62680cdf\n",
    "[6]: https://github.com/opensafely/appointments-short-data-report/commit/22bd7f2a29677fe0148e893fac9ce812e946f676\n",
    "\n",
    "Below, we show deciles of the proportion of distinct values of `Appointment_ID` to values of `Appointment_ID`, by `BookedDate` month, by `Organisation_ID`."
   ]
  },
  {
   "cell_type": "markdown",
   "metadata": {},
   "source": [
    "![](../../output/distinct_values/deciles_chart_prop_distinct_values_by_organisation_id.png)"
   ]
  },
  {
   "cell_type": "markdown",
   "metadata": {},
   "source": [
    "## Number of rows by `Status`"
   ]
  },
  {
   "cell_type": "code",
   "execution_count": null,
   "metadata": {},
   "outputs": [],
   "source": [
    "pandas.read_csv(OUTPUT_DIR / \"status\" / \"results.csv\", index_col=\"Status\")"
   ]
  },
  {
   "cell_type": "markdown",
   "metadata": {},
   "source": [
    "## Date range\n",
    "\n",
    "What is the date range of each of the datetime columns in the `Appointment` table?\n",
    "Do the maximum or minimum values suggest [default values][1] (`1900-01-01`) or proxy null values?\n",
    "\n",
    "[1]: https://learn.microsoft.com/en-us/sql/t-sql/data-types/datetime-transact-sql?view=sql-server-2017"
   ]
  },
  {
   "cell_type": "code",
   "execution_count": null,
   "metadata": {},
   "outputs": [],
   "source": [
    "pandas.read_csv(\n",
    "    OUTPUT_DIR / \"date_range\" / \"results.csv\",\n",
    "    index_col=\"column_name\",\n",
    "    parse_dates=[\"min_date\", \"max_date\"],\n",
    ").join(\n",
    "    pandas.DataFrame(\n",
    "        [\n",
    "            \"When the appointment was booked\",\n",
    "            \"When the appointment was due to start\",\n",
    "            \"When the appointment started\",\n",
    "            \"When the appointment was due to finish\",\n",
    "            \"When the appointment finished\",\n",
    "            \"Indicates the appointment took place\",\n",
    "        ],\n",
    "        index=[\n",
    "            \"BookedDate\",\n",
    "            \"StartDate\",\n",
    "            \"ArrivedDate\",\n",
    "            \"EndDate\",\n",
    "            \"FinishedDate\",\n",
    "            \"SeenDate\",\n",
    "        ],\n",
    "        columns=[\"definition\"],\n",
    "    )\n",
    ")"
   ]
  },
  {
   "cell_type": "markdown",
   "metadata": {},
   "source": [
    "## Number of rows by month"
   ]
  },
  {
   "cell_type": "code",
   "execution_count": null,
   "metadata": {},
   "outputs": [],
   "source": [
    "# long, missing dates are not represented\n",
    "num_rows_by_month = pandas.read_csv(\n",
    "    OUTPUT_DIR / \"num_rows_by_month\" / \"results.csv\",\n",
    "    index_col=[\"date\", \"column_name\"],\n",
    "    parse_dates=[\"date\"],\n",
    ")"
   ]
  },
  {
   "cell_type": "code",
   "execution_count": null,
   "metadata": {},
   "outputs": [],
   "source": [
    "# wide, missing dates at the extremes of the range are represented as NaN\n",
    "num_rows_by_month = num_rows_by_month.unstack().loc[:, \"num_rows\"]"
   ]
  },
  {
   "cell_type": "code",
   "execution_count": null,
   "metadata": {},
   "outputs": [],
   "source": [
    "full_date_range = pandas.date_range(\n",
    "    num_rows_by_month.index.min(),\n",
    "    num_rows_by_month.index.max(),\n",
    "    freq=\"MS\",\n",
    "    name=num_rows_by_month.index.name,\n",
    ")"
   ]
  },
  {
   "cell_type": "code",
   "execution_count": null,
   "metadata": {},
   "outputs": [],
   "source": [
    "# wide, missing dates within, and at the extremes of, the range are represented as NaN\n",
    "num_rows_by_month = num_rows_by_month.reindex(full_date_range)"
   ]
  },
  {
   "cell_type": "code",
   "execution_count": null,
   "metadata": {},
   "outputs": [],
   "source": [
    "# all missing dates are represented as NaN, which are represented as gaps in the line\n",
    "num_rows_by_month.plot(subplots=True, figsize=(12, 12))"
   ]
  },
  {
   "cell_type": "markdown",
   "metadata": {},
   "source": [
    "Show the earliest 12 dates for each `column_name`."
   ]
  },
  {
   "cell_type": "code",
   "execution_count": null,
   "metadata": {},
   "outputs": [],
   "source": [
    "# stack drops NaN\n",
    "num_rows_by_month.stack().rename(\"num_rows\").swaplevel().sort_index().groupby(\n",
    "    \"column_name\"\n",
    ").head(12).to_frame()"
   ]
  },
  {
   "cell_type": "markdown",
   "metadata": {},
   "source": [
    "Show the latest 12 dates for each `column_name`."
   ]
  },
  {
   "cell_type": "code",
   "execution_count": null,
   "metadata": {},
   "outputs": [],
   "source": [
    "# stack drops NaN\n",
    "num_rows_by_month.stack().rename(\"num_rows\").swaplevel().sort_index().groupby(\n",
    "    \"column_name\"\n",
    ").tail(12).to_frame()"
   ]
  },
  {
   "cell_type": "markdown",
   "metadata": {},
   "source": [
    "## Lead time\n",
    "\n",
    "We define *lead time* as `StartDate - BookedDate`, in days.\n",
    "We expect `BookedDate <= StartDate`.\n",
    "We do not expect negative lead times."
   ]
  },
  {
   "cell_type": "code",
   "execution_count": null,
   "metadata": {},
   "outputs": [],
   "source": [
    "lead_time = pandas.read_csv(OUTPUT_DIR / \"lead_time\" / \"results.csv\")"
   ]
  },
  {
   "cell_type": "code",
   "execution_count": null,
   "metadata": {},
   "outputs": [],
   "source": [
    "cut_off = 500"
   ]
  },
  {
   "cell_type": "code",
   "execution_count": null,
   "metadata": {},
   "outputs": [],
   "source": [
    "display.Markdown(\n",
    "    f\"\"\"\n",
    "We split lead time into three intervals:\n",
    "\n",
    "* Lower: `min(X) <= x < -{cut_off}`\n",
    "* Middle: `-{cut_off} <= x < {cut_off}`\n",
    "* Upper: `{cut_off} <= x <= max(X)`\n",
    "\"\"\"\n",
    ")"
   ]
  },
  {
   "cell_type": "code",
   "execution_count": null,
   "metadata": {},
   "outputs": [],
   "source": [
    "lower_mask = lead_time[\"lead_time_in_days\"] < -cut_off"
   ]
  },
  {
   "cell_type": "code",
   "execution_count": null,
   "metadata": {},
   "outputs": [],
   "source": [
    "middle_mask = (-cut_off <= lead_time[\"lead_time_in_days\"]) & (\n",
    "    lead_time[\"lead_time_in_days\"] < cut_off\n",
    ")"
   ]
  },
  {
   "cell_type": "code",
   "execution_count": null,
   "metadata": {},
   "outputs": [],
   "source": [
    "upper_mask = cut_off <= lead_time[\"lead_time_in_days\"]"
   ]
  },
  {
   "cell_type": "code",
   "execution_count": null,
   "metadata": {},
   "outputs": [],
   "source": [
    "def plot(lt, yscale=\"linear\", step=False, annotations=None):\n",
    "    fig = pyplot.figure(figsize=(18, 6))\n",
    "    ax = fig.subplots()\n",
    "\n",
    "    plotter = getattr(ax, \"step\") if step else getattr(ax, \"plot\")\n",
    "    annotations = [] if annotations is None else annotations\n",
    "\n",
    "    ax.set_yscale(yscale)\n",
    "    ax.set_xlabel(\"lead_time_in_days\")\n",
    "    ax.set_ylabel(\"frequency\")\n",
    "    ax.vlines(\n",
    "        annotations,\n",
    "        0,\n",
    "        1,\n",
    "        colors=\"grey\",\n",
    "        linestyles=\"dotted\",\n",
    "        transform=ax.get_xaxis_transform(),\n",
    "    )\n",
    "    for annotation in annotations[1:]:\n",
    "        ax.annotate(\n",
    "            f\"{int(annotation / 7)}w\",\n",
    "            (annotation, 1),\n",
    "            xytext=(0, -2),\n",
    "            xycoords=ax.get_xaxis_transform(),\n",
    "            textcoords=\"offset pixels\",\n",
    "            color=\"grey\",\n",
    "            verticalalignment=\"top\",\n",
    "        )\n",
    "    plotter(\"lead_time_in_days\", \"frequency\", data=lt)"
   ]
  },
  {
   "cell_type": "markdown",
   "metadata": {},
   "source": [
    "### Lower\n",
    "\n",
    "Because of the size of the range and the sparsity of the data, we represent the lower interval as a table."
   ]
  },
  {
   "cell_type": "code",
   "execution_count": null,
   "metadata": {},
   "outputs": [],
   "source": [
    "lead_time[lower_mask]"
   ]
  },
  {
   "cell_type": "markdown",
   "metadata": {},
   "source": [
    "### Middle"
   ]
  },
  {
   "cell_type": "code",
   "execution_count": null,
   "metadata": {},
   "outputs": [],
   "source": [
    "plot(\n",
    "    lead_time[middle_mask],\n",
    "    yscale=\"log\",\n",
    "    annotations=[0, 7, 28, 56, 84, 182, 273, 364],\n",
    ")"
   ]
  },
  {
   "cell_type": "markdown",
   "metadata": {},
   "source": [
    "### Upper"
   ]
  },
  {
   "cell_type": "code",
   "execution_count": null,
   "metadata": {},
   "outputs": [],
   "source": [
    "plot(lead_time[upper_mask], step=True)"
   ]
  }
 ],
 "metadata": {
  "kernelspec": {
   "display_name": "Python 3",
   "language": "python",
   "name": "python3"
  },
  "language_info": {
   "codemirror_mode": {
    "name": "ipython",
    "version": 3
   },
   "file_extension": ".py",
   "mimetype": "text/x-python",
   "name": "python",
   "nbconvert_exporter": "python",
   "pygments_lexer": "ipython3",
   "version": "3.8.10"
  }
 },
 "nbformat": 4,
 "nbformat_minor": 4
}
