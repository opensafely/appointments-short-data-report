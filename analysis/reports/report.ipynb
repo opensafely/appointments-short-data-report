{
 "cells": [
  {
   "cell_type": "code",
   "execution_count": null,
   "metadata": {},
   "outputs": [],
   "source": [
    "from matplotlib import pyplot\n",
    "import pathlib\n",
    "import pandas"
   ]
  },
  {
   "cell_type": "code",
   "execution_count": null,
   "metadata": {},
   "outputs": [],
   "source": [
    "OUTPUT_DIR = pathlib.Path(\"../../output/\").resolve()"
   ]
  },
  {
   "cell_type": "markdown",
   "metadata": {},
   "source": [
    "# Data curation\n",
    "\n",
    "## Distinct values\n",
    "\n",
    "Are `<Appointment_ID, Patient_ID>` tuples unique?\n",
    "If they aren't, then each row might not represent an appointment.\n",
    "\n",
    "* In [`2e4a681`][1] we checked if `<Appointment_ID>` tuples were unique. They weren't.\n",
    "* In [`bca8390`][2] we checked if `<Appointment_ID, Organisation_ID>` tuples were unique. They weren't.\n",
    "\n",
    "[1]: https://github.com/opensafely/appointments-short-data-report/commit/2e4a681cc7aa7b4a90455bf82e42e8777ae40eee\n",
    "[2]: https://github.com/opensafely/appointments-short-data-report/commit/bca8390250ef3ce6013847d23e38a5611391d65e"
   ]
  },
  {
   "cell_type": "code",
   "execution_count": null,
   "metadata": {},
   "outputs": [],
   "source": [
    "pandas.read_csv(OUTPUT_DIR / \"distinct_values\" / \"results.csv\")"
   ]
  },
  {
   "cell_type": "markdown",
   "metadata": {},
   "source": [
    "## Date range\n",
    "\n",
    "What is the date range of each of the datetime columns in the `Appointment` table?\n",
    "Do the maximum or minimum values suggest [default values][1] (`1900-01-01`) or proxy null values?\n",
    "\n",
    "[1]: https://learn.microsoft.com/en-us/sql/t-sql/data-types/datetime-transact-sql?view=sql-server-2017"
   ]
  },
  {
   "cell_type": "code",
   "execution_count": null,
   "metadata": {},
   "outputs": [],
   "source": [
    "pandas.read_csv(\n",
    "    OUTPUT_DIR / \"date_range\" / \"results.csv\",\n",
    "    index_col=\"column_name\",\n",
    "    parse_dates=[\"min_date\", \"max_date\"],\n",
    ")"
   ]
  },
  {
   "cell_type": "markdown",
   "metadata": {},
   "source": [
    "## Number of rows by month"
   ]
  },
  {
   "cell_type": "code",
   "execution_count": null,
   "metadata": {},
   "outputs": [],
   "source": [
    "# long, missing dates are not represented\n",
    "num_rows_by_month = pandas.read_csv(\n",
    "    OUTPUT_DIR / \"num_rows_by_month\" / \"results.csv\",\n",
    "    index_col=[\"date\", \"column_name\"],\n",
    "    parse_dates=[\"date\"],\n",
    ")"
   ]
  },
  {
   "cell_type": "code",
   "execution_count": null,
   "metadata": {},
   "outputs": [],
   "source": [
    "# wide, missing dates at the extremes of the range are represented as NaN\n",
    "num_rows_by_month = num_rows_by_month.unstack().loc[:, \"num_rows\"]"
   ]
  },
  {
   "cell_type": "code",
   "execution_count": null,
   "metadata": {},
   "outputs": [],
   "source": [
    "full_date_range = pandas.date_range(\n",
    "    num_rows_by_month.index.min(),\n",
    "    num_rows_by_month.index.max(),\n",
    "    freq=\"MS\",\n",
    "    name=num_rows_by_month.index.name,\n",
    ")"
   ]
  },
  {
   "cell_type": "code",
   "execution_count": null,
   "metadata": {},
   "outputs": [],
   "source": [
    "# wide, missing dates within, and at the extremes of, the range are represented as NaN\n",
    "num_rows_by_month = num_rows_by_month.reindex(full_date_range)"
   ]
  },
  {
   "cell_type": "code",
   "execution_count": null,
   "metadata": {},
   "outputs": [],
   "source": [
    "# all missing dates are represented as NaN, which are represented as gaps in the line\n",
    "num_rows_by_month.plot(subplots=True, figsize=(12, 12))"
   ]
  },
  {
   "cell_type": "markdown",
   "metadata": {},
   "source": [
    "Show the earliest 12 dates for each `column_name`."
   ]
  },
  {
   "cell_type": "code",
   "execution_count": null,
   "metadata": {},
   "outputs": [],
   "source": [
    "# stack drops NaN\n",
    "num_rows_by_month.stack().rename(\"num_rows\").swaplevel().sort_index().groupby(\n",
    "    \"column_name\"\n",
    ").head(12).to_frame()"
   ]
  },
  {
   "cell_type": "markdown",
   "metadata": {},
   "source": [
    "Show the latest 12 dates for each `column_name`."
   ]
  },
  {
   "cell_type": "code",
   "execution_count": null,
   "metadata": {},
   "outputs": [],
   "source": [
    "# stack drops NaN\n",
    "num_rows_by_month.stack().rename(\"num_rows\").swaplevel().sort_index().groupby(\n",
    "    \"column_name\"\n",
    ").tail(12).to_frame()"
   ]
  },
  {
   "cell_type": "markdown",
   "metadata": {},
   "source": [
    "## Lead time\n",
    "\n",
    "We define *lead time* as `StartDate - BookedDate`, in days.\n",
    "We expect `BookedDate <= StartDate`.\n",
    "We do not expect negative lead times."
   ]
  },
  {
   "cell_type": "code",
   "execution_count": null,
   "metadata": {},
   "outputs": [],
   "source": [
    "lead_time = pandas.read_csv(OUTPUT_DIR / \"lead_time\" / \"results.csv\")"
   ]
  },
  {
   "cell_type": "code",
   "execution_count": null,
   "metadata": {},
   "outputs": [],
   "source": [
    "pyplot.figure(figsize=(18, 6))\n",
    "pyplot.xlabel(lead_time[\"lead_time_in_days\"].name)\n",
    "pyplot.ylabel(lead_time[\"frequency\"].name)\n",
    "pyplot.bar(lead_time[\"lead_time_in_days\"], lead_time[\"frequency\"])"
   ]
  }
 ],
 "metadata": {
  "kernelspec": {
   "display_name": "Python 3",
   "language": "python",
   "name": "python3"
  },
  "language_info": {
   "codemirror_mode": {
    "name": "ipython",
    "version": 3
   },
   "file_extension": ".py",
   "mimetype": "text/x-python",
   "name": "python",
   "nbconvert_exporter": "python",
   "pygments_lexer": "ipython3",
   "version": "3.8.10"
  }
 },
 "nbformat": 4,
 "nbformat_minor": 4
}
